{
 "cells": [
  {
   "cell_type": "code",
   "execution_count": 1,
   "metadata": {
    "collapsed": true
   },
   "outputs": [],
   "source": [
    "import numpy\n",
    "from matplotlib import pyplot\n",
    "%matplotlib inline\n",
    "from matplotlib import rcParams\n",
    "from matplotlib import animation\n",
    "from IPython.display import HTML\n",
    "rcParams['font.family'] = 'serif'\n",
    "rcParams['font.size'] = 16"
   ]
  },
  {
   "cell_type": "code",
   "execution_count": 2,
   "metadata": {
    "collapsed": false
   },
   "outputs": [],
   "source": [
    "nt = 10001\n",
    "nx = 51\n",
    "\n",
    "s = 0.1\n",
    "T = 2\n",
    "L = 1\n",
    "dx = L/(nx-1)\n",
    "dt = T/(nt-1)\n",
    "\n",
    "\n",
    "x = numpy.linspace(0, L, nx)\n",
    "\n",
    "u = numpy.zeros(nx)"
   ]
  },
  {
   "cell_type": "code",
   "execution_count": 3,
   "metadata": {
    "collapsed": false
   },
   "outputs": [],
   "source": [
    "def fxt(x,t):\n",
    "    \n",
    "    fxt = numpy.exp(t) * numpy.cos(x) + \\\n",
    "          numpy.exp(t) * numpy.sin(t) + \\\n",
    "          numpy.exp(2*t - s) * numpy.sin(x)**2\n",
    "    return fxt"
   ]
  },
  {
   "cell_type": "code",
   "execution_count": null,
   "metadata": {
    "collapsed": false
   },
   "outputs": [],
   "source": []
  },
  {
   "cell_type": "code",
   "execution_count": 4,
   "metadata": {
    "collapsed": false
   },
   "outputs": [],
   "source": [
    "def func_u(u, x, nt, dt, dx,s):\n",
    "    \n",
    "    un = numpy.zeros_like(u)\n",
    "    unt = numpy.zeros((nt+1,nx))\n",
    "    \n",
    "    i = 0\n",
    "    \n",
    "    for n in range(nt):\n",
    "        \n",
    "        tn = i-int(s/dt)\n",
    "        un = u.copy()\n",
    "        u[1:-1] = un[1:-1] + \\\n",
    "                  dt/dx**2*(un[2:] - 2*un[1:-1] + un[0:-2]) -\\\n",
    "                  dt/dx*(un[2:] - un[1:-1]) + \\\n",
    "                  dt*un[1:-1] * (1-unt[tn,1:-1]) + dt*fxt(x,dt*i)[1:-1]\n",
    "                               \n",
    "        u[0] = 0\n",
    "        u[-1] = numpy.exp(dt*i)*numpy.sin(L)\n",
    "        unt[i,:] = u[:]\n",
    "        i = i+1\n",
    "\n",
    "        \n",
    "    return u"
   ]
  },
  {
   "cell_type": "code",
   "execution_count": 5,
   "metadata": {
    "collapsed": false,
    "scrolled": true
   },
   "outputs": [],
   "source": [
    "u_num = func_u(u, x, nt, dt, dx,s)\n",
    "u_exact = numpy.exp(T)*numpy.sin(x)"
   ]
  },
  {
   "cell_type": "code",
   "execution_count": 6,
   "metadata": {
    "collapsed": false
   },
   "outputs": [
    {
     "data": {
      "text/plain": [
       "[<matplotlib.lines.Line2D at 0x7f271a47eeb8>]"
      ]
     },
     "execution_count": 6,
     "metadata": {},
     "output_type": "execute_result"
    },
    {
     "data": {
      "image/png": "[encoded data removed]",
      "text/plain": [
       "<matplotlib.figure.Figure at 0x7f271aa64be0>"
      ]
     },
     "metadata": {},
     "output_type": "display_data"
    }
   ],
   "source": [
    "pyplot.figure(figsize=(10,4))\n",
    "pyplot.tick_params(axis='both', labelsize=14) #increase font size for ticks\n",
    "pyplot.xlabel('x', fontsize=14) #x label\n",
    "pyplot.ylabel('z', fontsize=14) #y label\n",
    "pyplot.plot(x, u_num, ls='-', lw=3)\n",
    "pyplot.plot(x, u_exact, ls='--', lw=3)\n",
    "#pyplot.legend(['Numerical Solution','Analytical Solution']);"
   ]
  },
  {
   "cell_type": "code",
   "execution_count": 7,
   "metadata": {
    "collapsed": false
   },
   "outputs": [
    {
     "data": {
      "text/plain": [
       "0.28417109324189704"
      ]
     },
     "execution_count": 7,
     "metadata": {},
     "output_type": "execute_result"
    }
   ],
   "source": [
    "numpy.max(u_num-u_exact)"
   ]
  },
  {
   "cell_type": "code",
   "execution_count": null,
   "metadata": {
    "collapsed": false
   },
   "outputs": [],
   "source": []
  },
  {
   "cell_type": "code",
   "execution_count": null,
   "metadata": {
    "collapsed": true
   },
   "outputs": [],
   "source": []
  },
  {
   "cell_type": "code",
   "execution_count": null,
   "metadata": {
    "collapsed": true
   },
   "outputs": [],
   "source": []
  }
 ],
 "metadata": {
  "anaconda-cloud": {},
  "kernelspec": {
   "display_name": "Python [default]",
   "language": "python",
   "name": "python3"
  },
  "language_info": {
   "codemirror_mode": {
    "name": "ipython",
    "version": 3
   },
   "file_extension": ".py",
   "mimetype": "text/x-python",
   "name": "python",
   "nbconvert_exporter": "python",
   "pygments_lexer": "ipython3",
   "version": "3.5.2"
  }
 },
 "nbformat": 4,
 "nbformat_minor": 1
}
