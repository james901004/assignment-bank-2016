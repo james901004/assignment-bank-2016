{
 "cells": [
  {
   "cell_type": "markdown",
   "metadata": {},
   "source": [
    "###### Content under Creative Commons Attribution license CC-BY 4.0, code under MIT license (c)2014 Wenjie Wu"
   ]
  },
  {
   "cell_type": "markdown",
   "metadata": {},
   "source": [
    "# An Numerical solution for Time Delay PDE"
   ]
  },
  {
   "cell_type": "markdown",
   "metadata": {},
   "source": [
    "My idea comes from my previous job in an old style glass manufactory. There was a large furnace lying in the middle of the factory. Originally, I want to check out he heat transfer and distribution inside the furnace. In according to Wang (1963), the product that has to be heat treaded was feed into the furnace, the temperature of the furnace was controlled by the heat controller which could be considered as the boundary conditions.  The following is the equation he used todescribe the working condition of the furnace. $$\\frac{\\partial u(t,x)}{\\partial t} = k\\frac{\\partial^2 u(t,x)}{\\partial x^2} +v(g(u(t-\\tau_1)))\\frac{\\partial u(t,x)}{\\partial x} +c(f(u(t -\\tau _2))-u(t,x))$$Unfortunately, I cannot find more details about this equation, for it has been written about 60 years. But the equation itself is an interesting top until now, a time delay partial deferential equation(DPDE). So in my project, I want to talk about solving a specific nonlinear delay convection-reaction–diffusion equation in 1D and 2D. Let’s go. \n",
    "## 1D Problem\n",
    "Firstly, we start with the easier 1D diffusion. Here comes the equation. $$\\frac{\\partial u(t,x)}{\\partial t} = \\alpha\\frac{\\partial^2 u(t,x)}{\\partial x^2} +\\beta\\frac{\\partial u(t,x)}{\\partial x} +u(x,t)(1 -u(x,t-\\tau))+f(t,x)),  (x,t)\\in(0,T]$$where $f(x,t) = \\alpha e^t cos(x)+\\beta e^tsin(t)+e^{2t-\\tau}sin^2(x), \\alpha = \\beta =1, a = 0, b = 1, T =2, s= 0.1$, initial and boundary condtions are determined by the exat solution $u(x,t)= e^tsin(x)$\n",
    "### Discretization\n",
    "we could use a forward-time, Center Difference scheme to discretize this second-order derivative as following:$$\\frac{u_{i}^{n+1} - u_{i}^{n}}{\\Delta t} =  \\frac{u_{i+1}^{n}-2u_{i}^{n}+u_{i-1}^{n}}{2\\Delta x} - \\frac{(u_{i+1}^{n}-u_{i}^{n})}{\\Delta x} + u_{i}^{n}(1 - u_{i}^{n-s}) +f(x,t)$$now let's begin "
   ]
  },
  {
   "cell_type": "code",
   "execution_count": 1,
   "metadata": {
    "collapsed": true
   },
   "outputs": [],
   "source": [
    "import numpy\n",
    "from matplotlib import pyplot\n",
    "%matplotlib inline\n",
    "from matplotlib import rcParams, cm\n",
    "from matplotlib import animation\n",
    "from IPython.display import HTML\n",
    "rcParams['font.family'] = 'serif'\n",
    "rcParams['font.size'] = 10"
   ]
  },
  {
   "cell_type": "markdown",
   "metadata": {},
   "source": [
    "Initial conditions setting, don’t forget the stability constraint:$\\frac{\\Delta t}{\\Delta x^2}\\leqslant \\frac{1}{2}$"
   ]
  },
  {
   "cell_type": "code",
   "execution_count": 2,
   "metadata": {
    "collapsed": false
   },
   "outputs": [],
   "source": [
    "#initial conditions \n",
    "nt,nx,s,T = 1001,51,0.1,2\n",
    "L = numpy.pi\n",
    "dx = L/(nx-1)\n",
    "dt = T/(nt-1)\n",
    "x = numpy.linspace(0, L, nx)\n",
    "u = numpy.zeros(nx)\n",
    "u0 = numpy.sin(x)                  #IC, when t goes to 0"
   ]
  },
  {
   "cell_type": "markdown",
   "metadata": {},
   "source": [
    "Before solving the whole function, we define the f(x,t) function which will applied into the main function first."
   ]
  },
  {
   "cell_type": "code",
   "execution_count": 3,
   "metadata": {
    "collapsed": false
   },
   "outputs": [],
   "source": [
    "def fxt(x,t):\n",
    "    \"\"\"solves the solution for f(x,t)\n",
    "    Parameters:\n",
    "    ----------\n",
    "    x:array of float, the position \n",
    "    t:float, time\n",
    "    Returns:\n",
    "    -------\n",
    "    fxt: array of float, the solution for f(x,t)\n",
    "    \"\"\"\n",
    "    fxt = numpy.exp(t) * numpy.cos(x) + \\\n",
    "          numpy.exp(t) * numpy.sin(t) + \\\n",
    "          numpy.exp(2*t - s) * numpy.sin(x)**2         \n",
    "    return fxt"
   ]
  },
  {
   "cell_type": "markdown",
   "metadata": {},
   "source": [
    "Here we got a time delay term $u_{i}^{n}(1 - u_{i}^{n-s})$, which will use the previous solution. what I have done is to establish an n+1 matrix to storage the solution of u at every time step. "
   ]
  },
  {
   "cell_type": "code",
   "execution_count": 4,
   "metadata": {
    "collapsed": false
   },
   "outputs": [],
   "source": [
    "\n",
    "def func_u(u, x, nt, dt, dx,s):\n",
    "    \"\"\"solves the DPDE with forward time center difference scheme\n",
    "    Parameters:\n",
    "    ----------\n",
    "    u: array of float, intiial condition of u\n",
    "    x: array of float, position\n",
    "    nt: int, number of time step\n",
    "    dt: float, time increment\n",
    "    dx: float, delta x\n",
    "    s: float, time delay \n",
    "    Returns:\n",
    "    -------\n",
    "    u: array of float, solutions for the DPDE\n",
    "    \"\"\"\n",
    "    un = numpy.zeros_like(u)\n",
    "    u_exact = numpy.zeros_like(u)\n",
    "    err = numpy.zeros(nt+1)\n",
    "    unt = numpy.zeros((nt+1,nx))\n",
    "    i = 0\n",
    "    for n in range(nt):\n",
    "        tn = i-int(s/dt)\n",
    "        un = u.copy()\n",
    "        u[1:-1] = un[1:-1] + \\\n",
    "                  dt/dx**2*(un[2:] - 2*un[1:-1] + un[0:-2]) -\\\n",
    "                  dt/dx*(un[2:] - un[1:-1]) + \\\n",
    "                  dt*un[1:-1] * (1-unt[tn,1:-1]) + dt*fxt(x,dt*i)[1:-1]                       \n",
    "        u[0] = 0                                                    #BC\n",
    "        u[-1] = numpy.exp(dt*i)*numpy.sin(L)                        #BC\n",
    "        unt[i,:] = u[:]                                             #update time delay term for the futher use\n",
    "        i = i + 1\n",
    "        u_exact = numpy.exp(dt*i)*numpy.sin(x)                      #exact solution for the function\n",
    "        err[i] = numpy.max(numpy.abs(u-u_exact))                    #prepare for the error \n",
    "    return u, err"
   ]
  },
  {
   "cell_type": "code",
   "execution_count": 5,
   "metadata": {
    "collapsed": false,
    "scrolled": true
   },
   "outputs": [],
   "source": [
    "u_num = func_u(u0.copy(), x, nt, dt, dx,s)[0]       #numerical value for u\n",
    "err_u = func_u(u0.copy(), x, nt, dt, dx,s)[1]       #greatest error in every time step"
   ]
  },
  {
   "cell_type": "markdown",
   "metadata": {},
   "source": [
    "### Calculate the error\n",
    "Now we have the solution of u at every step and want to know the error between the exat solution. let's check the error change first."
   ]
  },
  {
   "cell_type": "code",
   "execution_count": 6,
   "metadata": {
    "collapsed": false
   },
   "outputs": [
    {
     "data": {
      "image/png": "[encoded data removed]",
      "text/plain": [
       "<matplotlib.figure.Figure at 0x7f71182ebf60>"
      ]
     },
     "metadata": {},
     "output_type": "display_data"
    }
   ],
   "source": [
    "err_u\n",
    "pyplot.plot(numpy.linspace(0,T,nt+1), err_u, color='#003366', ls='-', lw=3)\n",
    "pyplot.title('max error change with time step')\n",
    "pyplot.xlabel('time step')\n",
    "pyplot.ylabel('error');"
   ]
  },
  {
   "cell_type": "markdown",
   "metadata": {},
   "source": [
    "The following is the animation for numerical versus exact in every time step. Click [here](./num_vs_exact.ipynb) for how i get this animation"
   ]
  },
  {
   "cell_type": "code",
   "execution_count": 7,
   "metadata": {
    "collapsed": false,
    "scrolled": true
   },
   "outputs": [
    {
     "data": {
      "text/html": [
       "<video controls>\n",
       "  <source src=\"./compare.mp4\" type=\"video/mp4\">\n",
       "</video>"
      ],
      "text/plain": [
       "<IPython.core.display.HTML object>"
      ]
     },
     "metadata": {},
     "output_type": "display_data"
    }
   ],
   "source": [
    "%%HTML\n",
    "<video controls>\n",
    "  <source src=\"./compare.mp4\" type=\"video/mp4\">\n",
    "</video>"
   ]
  },
  {
   "cell_type": "markdown",
   "metadata": {},
   "source": [
    "From the animation we can check out that there is more error in the beginning, that’s meanly because there is no value for the time delay term $u^{n-s}_i$, when the time step goes, when the time delay term has the value, the solution gets more accurate."
   ]
  },
  {
   "cell_type": "markdown",
   "metadata": {},
   "source": [
    "## 2D problem\n",
    "Let’s move to 2D part, in 2D, the equation becomes to $$\\frac{\\partial u}{\\partial t} = \\alpha \\nabla^2 u +\\beta\\nabla u +u(x,y,t)(1 -u(x,y,t-\\tau))+f(t,x,y))$$Here we simpily use the ICs in the 1D problem again, $f(t,x,y)$ becomes to $f(x,y,t) = \\alpha e^t (cos(x) +cos(y))+2\\beta e^tsin(t)+e^{2t-\\tau}(sin^2(x) + sin^2(y))$"
   ]
  },
  {
   "cell_type": "code",
   "execution_count": 8,
   "metadata": {
    "collapsed": false
   },
   "outputs": [],
   "source": [
    "#setup ICs\n",
    "L = numpy.pi\n",
    "H = numpy.pi\n",
    "nx,ny,nt,s,T = 31,31,1001,0.1,2\n",
    "dx = L/(nx-1)\n",
    "dy = H/(ny-1)\n",
    "dt = T/(nt-1)\n",
    "x = numpy.linspace(0,L,nx)\n",
    "y = numpy.linspace(0,H,ny)\n",
    "u = numpy.zeros((ny, nx))\n",
    "#set initila condition for u0\n",
    "u1 = numpy.zeros_like(u)\n",
    "u2 = numpy.zeros_like(u)\n",
    "for n in range(ny):\n",
    "    u1[n:] = numpy.sin(y)\n",
    "for n in range(nx):\n",
    "    u2[:,n] = numpy.sin(x)\n",
    "u0 = u1 + u2"
   ]
  },
  {
   "cell_type": "markdown",
   "metadata": {},
   "source": [
    "generate he solution of function $f(x,y,t)$ into $n \\times n$ matrix which will easy to use in the main function"
   ]
  },
  {
   "cell_type": "code",
   "execution_count": 9,
   "metadata": {
    "collapsed": false
   },
   "outputs": [],
   "source": [
    "def ft_2d(x,y,t):\n",
    "    \"\"\"generate a nxn matrix with x and y\n",
    "    Parameters:\n",
    "    ----------\n",
    "    x: array of float, x positon \n",
    "    y: array of float, y position\n",
    "    t: float, time\n",
    "    Returns:\n",
    "    -------\n",
    "    ft: matrix of float, generate a matrix with x and y\n",
    "    \"\"\"\n",
    "    ft = numpy.zeros_like(u)\n",
    "    fty = numpy.zeros_like(u)\n",
    "    ftx = numpy.zeros_like(u)\n",
    "    ft1 = fxt(x,t)\n",
    "    ft2 = fxt(y,t)\n",
    "    for n in range(ny):\n",
    "        fty[n,:] = ft2               #every line equal to ft2\n",
    "    for n in range(nx):\n",
    "        ftx[:,n] = ft1               #every column equal to ft1\n",
    "    ft = ftx + fty\n",
    "    return ft"
   ]
  },
  {
   "cell_type": "markdown",
   "metadata": {},
   "source": [
    "Just like 1D, we add a n+1 matrix to storge the value of u at every time step, set the top bottom and right boundary condition as Neumann boundary, which is $\\frac{\\partial u}{\\partial x} = q(x) = 0$ "
   ]
  },
  {
   "cell_type": "code",
   "execution_count": 10,
   "metadata": {
    "collapsed": false
   },
   "outputs": [],
   "source": [
    "def func_u_2d(u, x, y, nt, dt, dx, dy, s):\n",
    "    \"\"\"solves the DPDE with forward time center difference scheme\n",
    "    Parameters:\n",
    "    ----------\n",
    "    u: array of float, intiial condition of u\n",
    "    x: array of float, position\n",
    "    y: array of float, position  \n",
    "    nt: int, number of time step\n",
    "    dt: float, time increment\n",
    "    dx: float, delta x\n",
    "    dy: float, delta y\n",
    "    s: float, time delay\n",
    "    Returns:\n",
    "    -------\n",
    "    u: array of float, solutions for the DPDE\n",
    "    \"\"\"\n",
    "    un = numpy.zeros_like(u)\n",
    "    unt = numpy.zeros((nt+1,ny,nx))\n",
    "    i = 0\n",
    "    for n in range(nt):\n",
    "        tn = i-int(s/dt)\n",
    "        un = u.copy()\n",
    "        u[1:-1,1:-1] = un[1:-1,1:-1] + \\\n",
    "                       dt/dy**2*(un[2:,1:-1] - 2*un[1:-1,1:-1] + un[0:-2,1:-1]) +\\\n",
    "                       dt/dx**2*(un[1:-1,2:] - 2*un[1:-1,1:-1] + un[1:-1,0:-2]) -\\\n",
    "                       dt/dy*(un[2:,1:-1] - un[1:-1,1:-1]) - \\\n",
    "                       dt/dx*(un[1:-1,2:] - un[1:-1,1:-1]) + \\\n",
    "                        dt*ft_2d(x,y,dt*i)[1:-1,1:-1] + dt*un[1:-1,1:-1] * (1-unt[tn,1:-1,1:-1])                      \n",
    "        #BCs\n",
    "        u[-1,:] = u[-2,:]             #top\n",
    "        #u[0,1:-1] =                  #bottom\n",
    "        u[:,0] = u[:,1]               #left\n",
    "        u[:,-1] = u[:,-2]             #right\n",
    "        unt[i,:,:] = u[:,:]           #update time delay term for the futher use\n",
    "        i = i + 1\n",
    "    return u"
   ]
  },
  {
   "cell_type": "code",
   "execution_count": 11,
   "metadata": {
    "collapsed": false
   },
   "outputs": [],
   "source": [
    "U = func_u_2d(u0.copy(), x, y, nt, dt, dx, dy, s)"
   ]
  },
  {
   "cell_type": "code",
   "execution_count": 12,
   "metadata": {
    "collapsed": false
   },
   "outputs": [
    {
     "data": {
      "image/png": "[encoded data removed]",
      "text/plain": [
       "<matplotlib.figure.Figure at 0x7f7118865b70>"
      ]
     },
     "metadata": {},
     "output_type": "display_data"
    }
   ],
   "source": [
    "pyplot.figure(figsize=(5,3))\n",
    "pyplot.contourf(x,y,U,20,cmap=cm.viridis)\n",
    "pyplot.xlabel('$x$')\n",
    "pyplot.ylabel('$y$')\n",
    "pyplot.colorbar();"
   ]
  },
  {
   "cell_type": "markdown",
   "metadata": {},
   "source": [
    "## References\n",
    "* Abhishek Das, Srinivasan Natesan, [Uniformly convergent hybrid numerical scheme for singularly perturbed delay parabolic convection–diffusion problems on Shishkin mesh](http://www.sciencedirect.com/science/article/pii/S0096300315012187)\n",
    "\n",
    "* Bochao Liu, Chengjian Zhang,[A spectral Galerkin method for nonlinear delay convection–diffusion–reaction equations](http://www.sciencedirect.com/science/article/pii/S1007570413002207)\n",
    "\n",
    "* P.K.C. Wang, Asymptotic stability of a time-delayed diffusion system, J. Appl. Mech. 30 (1963) 500–504.\n",
    "\n",
    "* Vladimir Pimenov1 and Andrey Lozhnikov1,2, [Numerical Methods for Evolutionary Equations with Delay and Software Package PDDE](https://www.researchgate.net/publication/266862028_Numerical_Methods_for_Evolutionary_Equations_with_Delay_and_Software_Package_PDDE)\n",
    "\n",
    "* Wu, J.Theory and Applications of Partial Functional Differential Equations, Springer-Verlag New York, Inc. 1996.\n",
    "\n",
    "\n",
    "\n"
   ]
  },
  {
   "cell_type": "code",
   "execution_count": null,
   "metadata": {
    "collapsed": true
   },
   "outputs": [],
   "source": []
  }
 ],
 "metadata": {
  "anaconda-cloud": {},
  "kernelspec": {
   "display_name": "Python [default]",
   "language": "python",
   "name": "python3"
  },
  "language_info": {
   "codemirror_mode": {
    "name": "ipython",
    "version": 3
   },
   "file_extension": ".py",
   "mimetype": "text/x-python",
   "name": "python",
   "nbconvert_exporter": "python",
   "pygments_lexer": "ipython3",
   "version": "3.5.2"
  }
 },
 "nbformat": 4,
 "nbformat_minor": 1
}
