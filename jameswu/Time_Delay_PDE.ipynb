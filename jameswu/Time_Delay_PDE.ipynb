{
 "cells": [
  {
   "cell_type": "markdown",
   "metadata": {},
   "source": [
    "# An Numerical solution for Time Delay PDE"
   ]
  },
  {
   "cell_type": "markdown",
   "metadata": {},
   "source": [
    "My idea comes from my previous job in an old style glass manufactory. There was a large furnace lying in the middle of the factory. Originally, I want to check out he heat transfer and distribution inside the furnace. In according to Wang (1963), the product that has to be heat treaded was feed into the furnace, the temperature of the furnace was controlled by the heat controller which could be considered as the boundary conditions.  The following is the equation he used todescribe the working condition of the furnace. "
   ]
  },
  {
   "cell_type": "markdown",
   "metadata": {},
   "source": [
    "$$\\frac{\\partial u(t,x)}{\\partial t} = k\\frac{\\partial^2 u(t,x)}{\\partial x^2} +v(g(u(t-\\tau_1)))\\frac{\\partial u(t,x)}{\\partial x} +c(f(u(t -\\tau _2))-u(t,x))$$"
   ]
  },
  {
   "cell_type": "markdown",
   "metadata": {},
   "source": [
    "Unfortunately, I cannot find more details about this equation, for it has been written about 60 years. But the equation itself is an interesting top until now, a time delay partial deferential equation(DPDE). So in my project, I want to talk about solving a specific nonlinear delay convection-reaction–diffusion equation in 1D and 2D. Let’s go. "
   ]
  },
  {
   "cell_type": "markdown",
   "metadata": {},
   "source": [
    "## 1D Problem"
   ]
  },
  {
   "cell_type": "markdown",
   "metadata": {},
   "source": [
    "Firstly, we start with the easier 1D diffusion. Here comes the equation. "
   ]
  },
  {
   "cell_type": "markdown",
   "metadata": {},
   "source": [
    "$$\\frac{\\partial u(t,x)}{\\partial t} = \\alpha\\frac{\\partial^2 u(t,x)}{\\partial x^2} +\\beta\\frac{\\partial u(t,x)}{\\partial x} +u(x,t)(1 -u(x,t-\\tau))+f(t,x)),  (x,t)\\in(0,T]$$"
   ]
  },
  {
   "cell_type": "markdown",
   "metadata": {},
   "source": [
    "where $f(x,t) = \\alpha e^t cos(x)+\\beta e^tsin(t)+e^{2t-\\tau}sin^2(x), \\alpha = \\beta =1, a = 0, b = 1, T =2, s= 0.1$, initial and boundary condtions are determined by the exat solution $u(x,t)= e^tsin(x)$"
   ]
  },
  {
   "cell_type": "markdown",
   "metadata": {},
   "source": [
    "### Discretization"
   ]
  },
  {
   "cell_type": "markdown",
   "metadata": {
    "collapsed": true
   },
   "source": [
    "we could use a forward-time, Center Difference scheme to discretize this second-order derivative as following:"
   ]
  },
  {
   "cell_type": "markdown",
   "metadata": {},
   "source": [
    "$$\\frac{u_{i}^{n+1} - u_{i}^{n}}{\\Delta t} =  \\frac{u_{i+1}^{n}-2u_{i}^{n}+u_{i-1}^{n}}{2\\Delta x} - \\frac{(u_{i+1}^{n}-u_{i}^{n})}{\\Delta x} + u_{i}^{n}(1 - u_{i}^{n-s}) +f(x,t)$$"
   ]
  },
  {
   "cell_type": "markdown",
   "metadata": {},
   "source": [
    "now let's begin "
   ]
  },
  {
   "cell_type": "code",
   "execution_count": 1,
   "metadata": {
    "collapsed": true
   },
   "outputs": [],
   "source": [
    "import numpy\n",
    "from matplotlib import pyplot\n",
    "%matplotlib inline\n",
    "from matplotlib import rcParams, cm\n",
    "from matplotlib import animation\n",
    "from IPython.display import HTML\n",
    "rcParams['font.family'] = 'serif'\n",
    "rcParams['font.size'] = 16"
   ]
  },
  {
   "cell_type": "markdown",
   "metadata": {},
   "source": [
    "Initial conditions setting, don’t forget the stability constraint:$\\frac{\\Delta t}{\\Delta x^2}\\leqslant \\frac{1}{2}$"
   ]
  },
  {
   "cell_type": "code",
   "execution_count": 2,
   "metadata": {
    "collapsed": false
   },
   "outputs": [],
   "source": [
    "#initial conditions \n",
    "nt = 1001\n",
    "nx = 51\n",
    "\n",
    "s = 0.1\n",
    "T = 2\n",
    "L = numpy.pi\n",
    "dx = L/(nx-1)\n",
    "dt = T/(nt-1)\n",
    "\n",
    "x = numpy.linspace(0, L, nx)\n",
    "\n",
    "u = numpy.zeros(nx)\n",
    "u0 = numpy.sin(x)                  #IC, when t goes to 0"
   ]
  },
  {
   "cell_type": "markdown",
   "metadata": {},
   "source": [
    "Before solving the whole function, we define the f(x,t) function which will applied into the main function first."
   ]
  },
  {
   "cell_type": "code",
   "execution_count": 3,
   "metadata": {
    "collapsed": false
   },
   "outputs": [],
   "source": [
    "def fxt(x,t):\n",
    "    \"\"\"solves the solution for f(x,t)\n",
    "    Parameters:\n",
    "    ----------\n",
    "    x:array of float\n",
    "      the position \n",
    "    t:float\n",
    "      time\n",
    "    \n",
    "    Returns:\n",
    "    -------\n",
    "    fxt: array of float\n",
    "         the solution for f(x,t)\n",
    "    \"\"\"\n",
    "    fxt = numpy.exp(t) * numpy.cos(x) + \\\n",
    "          numpy.exp(t) * numpy.sin(t) + \\\n",
    "          numpy.exp(2*t - s) * numpy.sin(x)**2\n",
    "            \n",
    "    return fxt"
   ]
  },
  {
   "cell_type": "markdown",
   "metadata": {},
   "source": [
    "Here we got a time delay term $u_{i}^{n}(1 - u_{i}^{n-s})$, which will use the previous solution. what I have done is to establish an n+1 matrix to storage the solution of u at every time step. "
   ]
  },
  {
   "cell_type": "code",
   "execution_count": 4,
   "metadata": {
    "collapsed": false
   },
   "outputs": [],
   "source": [
    "def func_u(u, x, nt, dt, dx,s):\n",
    "    \"\"\"solves the DPDE with forward time center difference scheme\n",
    "    Parameters:\n",
    "    ----------\n",
    "    u: array of float\n",
    "       intiial condition of u\n",
    "    x: array of float\n",
    "       position\n",
    "    nt: int\n",
    "        number of time step\n",
    "    dt: float\n",
    "        time increment\n",
    "    dx: float\n",
    "        delta x\n",
    "    s: float\n",
    "       time delay\n",
    "       \n",
    "    Returns:\n",
    "    -------\n",
    "    u: array of float\n",
    "       solutions for the DPDE\n",
    "    \"\"\"\n",
    "    un = numpy.zeros_like(u)\n",
    "    unt = numpy.zeros((nt+1,nx))\n",
    "    \n",
    "    i = 0\n",
    "    \n",
    "    for n in range(nt):\n",
    "        \n",
    "        tn = i-int(s/dt)\n",
    "        un = u.copy()\n",
    "        u[1:-1] = un[1:-1] + \\\n",
    "                  dt/dx**2*(un[2:] - 2*un[1:-1] + un[0:-2]) -\\\n",
    "                  dt/dx*(un[2:] - un[1:-1]) + \\\n",
    "                  dt*un[1:-1] * (1-unt[tn,1:-1]) + dt*fxt(x,dt*i)[1:-1] \n",
    "                               \n",
    "        u[0] = 0                                                    #BC\n",
    "        u[-1] = numpy.exp(dt*i)*numpy.sin(L)                        #BC\n",
    "        unt[i,:] = u[:]                                             #update time delay term for the futher use\n",
    "        i = i + 1\n",
    "        \n",
    "    return u"
   ]
  },
  {
   "cell_type": "code",
   "execution_count": 5,
   "metadata": {
    "collapsed": false,
    "scrolled": true
   },
   "outputs": [],
   "source": [
    "u_num = func_u(u0.copy(), x, nt, dt, dx,s)\n",
    "u_exact = numpy.exp(T)*numpy.sin(x)"
   ]
  },
  {
   "cell_type": "markdown",
   "metadata": {},
   "source": [
    "ready to see what we have done? Beacuse of the equation has the exact solution, lets plot them together!"
   ]
  },
  {
   "cell_type": "code",
   "execution_count": 6,
   "metadata": {
    "collapsed": false
   },
   "outputs": [
    {
     "data": {
      "image/png": "[encoded data removed]",
      "text/plain": [
       "<matplotlib.figure.Figure at 0x7fa1bedd9fd0>"
      ]
     },
     "metadata": {},
     "output_type": "display_data"
    }
   ],
   "source": [
    "pyplot.figure(figsize=(8,5))\n",
    "pyplot.xlabel('x', fontsize=14) \n",
    "pyplot.ylabel('u', fontsize=14) \n",
    "pyplot.plot(x, u_num, ls='--', lw=3)\n",
    "pyplot.plot(x, u_exact, ls='-', lw=3)\n",
    "pyplot.legend(['Numerical Solution','Analytical Solution']);"
   ]
  },
  {
   "cell_type": "markdown",
   "metadata": {},
   "source": [
    "### Calculate the error"
   ]
  },
  {
   "cell_type": "markdown",
   "metadata": {},
   "source": [
    "Now we have the solution of u at every step and want to know the error between the exat solution."
   ]
  },
  {
   "cell_type": "code",
   "execution_count": 7,
   "metadata": {
    "collapsed": false
   },
   "outputs": [
    {
     "data": {
      "image/png": "[encoded data removed]",
      "text/plain": [
       "<matplotlib.figure.Figure at 0x7fa1bedc4358>"
      ]
     },
     "metadata": {},
     "output_type": "display_data"
    }
   ],
   "source": [
    "fig = pyplot.figure(figsize=(8,5))\n",
    "ax = pyplot.axes(xlim=(0,3.5), ylim=(0,8))\n",
    "line = ax.plot([], [], ls='--', lw=3)[0]\n",
    "line2 = ax.plot([], [], ls='-', lw=3)[0]\n",
    "pyplot.xlabel('x', fontsize=14) \n",
    "pyplot.ylabel('u', fontsize=14) \n",
    "ax.legend(['Numerical Solution','Analytical Solution'])\n",
    "\n",
    "unt = numpy.zeros((nt+1,nx))\n",
    "u = u0\n",
    "\n",
    "def time_delay(n):\n",
    "    \n",
    "    un = u.copy()\n",
    "    tn = n-int(s/dt)\n",
    "    \n",
    "    u[1:-1] = un[1:-1] + \\\n",
    "              dt/dx**2*(un[2:] - 2*un[1:-1] + un[0:-2]) -\\\n",
    "              dt/dx*(un[2:] - un[1:-1]) + \\\n",
    "              dt*un[1:-1] * (1-unt[tn,1:-1]) + dt*fxt(x,dt*n)[1:-1]\n",
    "                               \n",
    "    u[0] = 0                                                 \n",
    "    u[-1] = numpy.exp(dt*n)*numpy.sin(L)                      \n",
    "    unt[n,:] = u[:]                                           \n",
    "    \n",
    "\n",
    "    u_exact = numpy.exp(n*dt)*numpy.sin(x)   \n",
    "    line.set_data(x,u)\n",
    "    line2.set_data(x,u_exact) \n",
    "        \n",
    "        \n",
    "anim = animation.FuncAnimation(fig, time_delay,frames=nt,interval=10)"
   ]
  },
  {
   "cell_type": "markdown",
   "metadata": {},
   "source": [
    "ready to move?"
   ]
  },
  {
   "cell_type": "code",
   "execution_count": 8,
   "metadata": {
    "collapsed": false
   },
   "outputs": [],
   "source": [
    "HTML(anim.to_html5_video())"
   ]
  },
  {
   "cell_type": "markdown",
   "metadata": {},
   "source": [
    "From the animation we can check out that there is more error in the beginning, that’s meanly because there is no value for the time delay term $u^{n-s}_i$, when the time step goes, when the time delay term has the value, the solution gets more accurate."
   ]
  },
  {
   "cell_type": "markdown",
   "metadata": {},
   "source": [
    "## 2D problem"
   ]
  },
  {
   "cell_type": "markdown",
   "metadata": {},
   "source": [
    "Let’s move to 2D part, in 2D, the equation becomes to "
   ]
  },
  {
   "cell_type": "markdown",
   "metadata": {},
   "source": [
    "$$\\frac{\\partial u}{\\partial t} = \\alpha \\nabla^2 u +\\beta\\nabla u +u(x,y,t)(1 -u(x,y,t-\\tau))+f(t,x,y))$$"
   ]
  },
  {
   "cell_type": "markdown",
   "metadata": {},
   "source": [
    "Here we simpily use the ICs in the 1D problem again, $f(t,x,y)$ becomes to $f(x,y,t) = \\alpha e^t (cos(x) +cos(y))+2\\beta e^tsin(t)+e^{2t-\\tau}(sin^2(x) + sin^2(y))$"
   ]
  },
  {
   "cell_type": "code",
   "execution_count": 14,
   "metadata": {
    "collapsed": true
   },
   "outputs": [],
   "source": [
    "#setup ICs\n",
    "L = numpy.pi\n",
    "H = numpy.pi\n",
    "\n",
    "nx = 31\n",
    "ny = 31\n",
    "nt = 1001\n",
    "\n",
    "dx = L/(nx-1)\n",
    "dy = H/(ny-1)\n",
    "dt = T/(nt-1)\n",
    "\n",
    "s = 0.1\n",
    "T = 2\n",
    "\n",
    "x = numpy.linspace(0,L,nx)\n",
    "y = numpy.linspace(0,H,ny)\n",
    "\n",
    "u = numpy.zeros((ny, nx))\n",
    "\n",
    "#set initila condition for u0\n",
    "u1 = numpy.zeros_like(u)\n",
    "u2 = numpy.zeros_like(u)\n",
    "for n in range(ny):\n",
    "    u1[n:] = numpy.sin(y)\n",
    "for n in range(nx):\n",
    "    u2[:,n] = numpy.sin(x)\n",
    "u0 = u1 + u2"
   ]
  },
  {
   "cell_type": "markdown",
   "metadata": {},
   "source": [
    "generate he solution of function $f(x,y,t)$ into $n \\times n$ matrix which will easy to use in the main function"
   ]
  },
  {
   "cell_type": "code",
   "execution_count": 19,
   "metadata": {
    "collapsed": false
   },
   "outputs": [],
   "source": [
    "def ft_2d(x,y,t):\n",
    "    \"\"\"generate a nxn matrix with x and y\n",
    "    Parameters:\n",
    "    ----------\n",
    "    x: array of float\n",
    "       x positon \n",
    "    y: array of float\n",
    "       y position\n",
    "    t: float\n",
    "       time\n",
    "    Returns:\n",
    "    -------\n",
    "    ft: matrix of float\n",
    "        generate a matrix with x and y\n",
    "    \"\"\"\n",
    "    ft = numpy.zeros_like(u)\n",
    "    fty = numpy.zeros_like(u)\n",
    "    ftx = numpy.zeros_like(u)\n",
    "    \n",
    "    ft1 = fxt(x,t)\n",
    "    ft2 = fxt(y,t)\n",
    "    \n",
    "    for n in range(ny):\n",
    "        fty[n,:] = ft2               #every line equal to ft2\n",
    "    for n in range(nx):\n",
    "        ftx[:,n] = ft1               #every column equal to ft1\n",
    "    \n",
    "    ft = ftx + fty\n",
    "    \n",
    "    return ft"
   ]
  },
  {
   "cell_type": "markdown",
   "metadata": {},
   "source": [
    "Just like 1D, we add a n+1 matrix to storge the value of u at every time step, set the top bottom and right boundary condition as Neumann boundary, which is $\\frac{\\partial u}{\\partial x} = q(x) = 0$ "
   ]
  },
  {
   "cell_type": "code",
   "execution_count": 23,
   "metadata": {
    "collapsed": false
   },
   "outputs": [],
   "source": [
    "def func_u_2d(u, x, y, nt, dt, dx, dy, s):\n",
    "    \"\"\"solves the DPDE with forward time center difference scheme\n",
    "    Parameters:\n",
    "    ----------\n",
    "    u: array of float\n",
    "       intiial condition of u\n",
    "    x: array of float\n",
    "       position\n",
    "    y: array of float\n",
    "       position  \n",
    "    nt: int\n",
    "        number of time step\n",
    "    dt: float\n",
    "        time increment\n",
    "    dx: float\n",
    "        delta x\n",
    "    dy: float\n",
    "        delta y\n",
    "    s: float\n",
    "       time delay\n",
    "       \n",
    "    Returns:\n",
    "    -------\n",
    "    u: array of float\n",
    "       solutions for the DPDE\n",
    "    \"\"\"\n",
    "    un = numpy.zeros_like(u)\n",
    "    unt = numpy.zeros((nt+1,ny,nx))\n",
    "    \n",
    "    i = 0\n",
    "    \n",
    "    for n in range(nt):\n",
    "        \n",
    "        tn = i-int(s/dt)\n",
    "        un = u.copy()\n",
    "        u[1:-1,1:-1] = un[1:-1,1:-1] + \\\n",
    "                       dt/dy**2*(un[2:,1:-1] - 2*un[1:-1,1:-1] + un[0:-2,1:-1]) +\\\n",
    "                       dt/dx**2*(un[1:-1,2:] - 2*un[1:-1,1:-1] + un[1:-1,0:-2]) -\\\n",
    "                       dt/dy*(un[2:,1:-1] - un[1:-1,1:-1]) - \\\n",
    "                       dt/dx*(un[1:-1,2:] - un[1:-1,1:-1]) + \\\n",
    "                        dt*ft_2d(x,y,dt*i)[1:-1,1:-1] + dt*un[1:-1,1:-1] * (1-unt[tn,1:-1,1:-1])\n",
    "                               \n",
    "        #BCs\n",
    "        u[-1,:] = u[-2,:]             #top\n",
    "        #u[0,1:-1] =                  #bottom\n",
    "        u[:,0] = u[:,1]               #left\n",
    "        u[:,-1] = u[:,-2]             #right\n",
    "        \n",
    "        unt[i,:,:] = u[:,:]           #update time delay term for the futher use\n",
    "        i = i + 1\n",
    "        \n",
    "    return u"
   ]
  },
  {
   "cell_type": "code",
   "execution_count": 24,
   "metadata": {
    "collapsed": false
   },
   "outputs": [],
   "source": [
    "U = func_u_2d(u0.copy(), x, y, nt, dt, dx, dy, s)"
   ]
  },
  {
   "cell_type": "code",
   "execution_count": 25,
   "metadata": {
    "collapsed": false
   },
   "outputs": [
    {
     "data": {
      "image/png": "[encoded data removed]",
      "text/plain": [
       "<matplotlib.figure.Figure at 0x7fa1b9861b38>"
      ]
     },
     "metadata": {},
     "output_type": "display_data"
    }
   ],
   "source": [
    "pyplot.figure(figsize=(8,5))\n",
    "pyplot.contourf(x,y,U,20,cmap=cm.viridis)\n",
    "pyplot.xlabel('$x$')\n",
    "pyplot.ylabel('$y$')\n",
    "pyplot.colorbar();"
   ]
  },
  {
   "cell_type": "code",
   "execution_count": null,
   "metadata": {
    "collapsed": true
   },
   "outputs": [],
   "source": []
  }
 ],
 "metadata": {
  "anaconda-cloud": {},
  "kernelspec": {
   "display_name": "Python [default]",
   "language": "python",
   "name": "python3"
  },
  "language_info": {
   "codemirror_mode": {
    "name": "ipython",
    "version": 3
   },
   "file_extension": ".py",
   "mimetype": "text/x-python",
   "name": "python",
   "nbconvert_exporter": "python",
   "pygments_lexer": "ipython3",
   "version": "3.5.2"
  }
 },
 "nbformat": 4,
 "nbformat_minor": 1
}
